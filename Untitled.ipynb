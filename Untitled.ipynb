{
 "cells": [
  {
   "cell_type": "code",
   "execution_count": 53,
   "id": "2e32cf6f",
   "metadata": {
    "ExecuteTime": {
     "end_time": "2021-12-15T15:46:32.666468Z",
     "start_time": "2021-12-15T15:46:32.661426Z"
    }
   },
   "outputs": [],
   "source": [
    "import requests\n",
    "def get_session():\n",
    "    session=requests.Session()\n",
    "    session.auth=(\"bhuwan\",\"pass\")\n",
    "    \n",
    "    base_url=f\"http://localhost:5005\"\n",
    "    return session, base_url\n",
    "\n",
    "\n",
    "def get_data(session,url,params,batch_size=100):\n",
    "    offset=0\n",
    "    total=None\n",
    "    while total is None or offset<total:\n",
    "        response=session.get(url,params={**params,**{\"offset\":offset,\"limit\":batch_size}})\n",
    "        response.raise_for_status()\n",
    "        response_json=response.json()\n",
    "        print(res)\n",
    "        yield from response[\"result\"]\n",
    "        offset += batch_size\n",
    "        total=response_json[\"total\"]\n",
    "def _get_ratings(start_date, end_date, batch_size=100):\n",
    "    session, base_url = get_session()\n",
    "\n",
    "    yield from get_data(\n",
    "        session=session,\n",
    "        url=base_url + \"/ratings\",\n",
    "        params={\"start_date\": start_date, \"end_date\": end_date},\n",
    "        batch_size=batch_size,\n",
    "    )\n"
   ]
  },
  {
   "cell_type": "code",
   "execution_count": 54,
   "id": "447808e1",
   "metadata": {
    "ExecuteTime": {
     "end_time": "2021-12-15T15:46:33.305572Z",
     "start_time": "2021-12-15T15:46:33.153963Z"
    }
   },
   "outputs": [
    {
     "ename": "TypeError",
     "evalue": "'Response' object is not subscriptable",
     "output_type": "error",
     "traceback": [
      "\u001b[0;31m---------------------------------------------------------------------------\u001b[0m",
      "\u001b[0;31mTypeError\u001b[0m                                 Traceback (most recent call last)",
      "\u001b[0;32m/var/folders/gy/5t7qcg1534769yzrg82rygl40000gn/T/ipykernel_8572/3519871600.py\u001b[0m in \u001b[0;36m<module>\u001b[0;34m\u001b[0m\n\u001b[0;32m----> 1\u001b[0;31m \u001b[0;32mfor\u001b[0m \u001b[0mi\u001b[0m \u001b[0;32min\u001b[0m \u001b[0m_get_ratings\u001b[0m\u001b[0;34m(\u001b[0m\u001b[0;34m\"2000-01-01\"\u001b[0m\u001b[0;34m,\u001b[0m\u001b[0;34m\"2002-01-01\"\u001b[0m\u001b[0;34m)\u001b[0m\u001b[0;34m:\u001b[0m\u001b[0;34m\u001b[0m\u001b[0;34m\u001b[0m\u001b[0m\n\u001b[0m\u001b[1;32m      2\u001b[0m     \u001b[0mprint\u001b[0m\u001b[0;34m(\u001b[0m\u001b[0mi\u001b[0m\u001b[0;34m)\u001b[0m\u001b[0;34m\u001b[0m\u001b[0;34m\u001b[0m\u001b[0m\n",
      "\u001b[0;32m/var/folders/gy/5t7qcg1534769yzrg82rygl40000gn/T/ipykernel_8572/3226283078.py\u001b[0m in \u001b[0;36m_get_ratings\u001b[0;34m(start_date, end_date, batch_size)\u001b[0m\n\u001b[1;32m     21\u001b[0m     \u001b[0msession\u001b[0m\u001b[0;34m,\u001b[0m \u001b[0mbase_url\u001b[0m \u001b[0;34m=\u001b[0m \u001b[0mget_session\u001b[0m\u001b[0;34m(\u001b[0m\u001b[0;34m)\u001b[0m\u001b[0;34m\u001b[0m\u001b[0;34m\u001b[0m\u001b[0m\n\u001b[1;32m     22\u001b[0m \u001b[0;34m\u001b[0m\u001b[0m\n\u001b[0;32m---> 23\u001b[0;31m     yield from get_data(\n\u001b[0m\u001b[1;32m     24\u001b[0m         \u001b[0msession\u001b[0m\u001b[0;34m=\u001b[0m\u001b[0msession\u001b[0m\u001b[0;34m,\u001b[0m\u001b[0;34m\u001b[0m\u001b[0;34m\u001b[0m\u001b[0m\n\u001b[1;32m     25\u001b[0m         \u001b[0murl\u001b[0m\u001b[0;34m=\u001b[0m\u001b[0mbase_url\u001b[0m \u001b[0;34m+\u001b[0m \u001b[0;34m\"/ratings\"\u001b[0m\u001b[0;34m,\u001b[0m\u001b[0;34m\u001b[0m\u001b[0;34m\u001b[0m\u001b[0m\n",
      "\u001b[0;32m/var/folders/gy/5t7qcg1534769yzrg82rygl40000gn/T/ipykernel_8572/3226283078.py\u001b[0m in \u001b[0;36mget_data\u001b[0;34m(session, url, params, batch_size)\u001b[0m\n\u001b[1;32m     15\u001b[0m         \u001b[0mresponse\u001b[0m\u001b[0;34m.\u001b[0m\u001b[0mraise_for_status\u001b[0m\u001b[0;34m(\u001b[0m\u001b[0;34m)\u001b[0m\u001b[0;34m\u001b[0m\u001b[0;34m\u001b[0m\u001b[0m\n\u001b[1;32m     16\u001b[0m         \u001b[0mresponse_json\u001b[0m\u001b[0;34m=\u001b[0m\u001b[0mresponse\u001b[0m\u001b[0;34m.\u001b[0m\u001b[0mjson\u001b[0m\u001b[0;34m(\u001b[0m\u001b[0;34m)\u001b[0m\u001b[0;34m\u001b[0m\u001b[0;34m\u001b[0m\u001b[0m\n\u001b[0;32m---> 17\u001b[0;31m         \u001b[0;32myield\u001b[0m \u001b[0;32mfrom\u001b[0m \u001b[0mresponse\u001b[0m\u001b[0;34m[\u001b[0m\u001b[0;34m\"result\"\u001b[0m\u001b[0;34m]\u001b[0m\u001b[0;34m\u001b[0m\u001b[0;34m\u001b[0m\u001b[0m\n\u001b[0m\u001b[1;32m     18\u001b[0m         \u001b[0moffset\u001b[0m \u001b[0;34m+=\u001b[0m \u001b[0mbatch_size\u001b[0m\u001b[0;34m\u001b[0m\u001b[0;34m\u001b[0m\u001b[0m\n\u001b[1;32m     19\u001b[0m         \u001b[0mtotal\u001b[0m\u001b[0;34m=\u001b[0m\u001b[0mresponse_json\u001b[0m\u001b[0;34m[\u001b[0m\u001b[0;34m\"total\"\u001b[0m\u001b[0;34m]\u001b[0m\u001b[0;34m\u001b[0m\u001b[0;34m\u001b[0m\u001b[0m\n",
      "\u001b[0;31mTypeError\u001b[0m: 'Response' object is not subscriptable"
     ]
    }
   ],
   "source": [
    "for i in _get_ratings(\"2000-01-01\",\"2002-01-01\"):\n",
    "    print(i)"
   ]
  },
  {
   "cell_type": "code",
   "execution_count": 46,
   "id": "8f6bf8c2",
   "metadata": {
    "ExecuteTime": {
     "end_time": "2021-12-15T15:43:12.462321Z",
     "start_time": "2021-12-15T15:43:12.459331Z"
    }
   },
   "outputs": [],
   "source": [
    "sess,url=get_session()"
   ]
  },
  {
   "cell_type": "code",
   "execution_count": 55,
   "id": "6e2980e3",
   "metadata": {
    "ExecuteTime": {
     "end_time": "2021-12-15T15:47:17.913670Z",
     "start_time": "2021-12-15T15:47:17.750185Z"
    }
   },
   "outputs": [],
   "source": [
    "data=sess.get(\"http://localhost:5005/ratings\",params={\"start_date\":\"2000-01-01\",\"end_date\":\"2002-01-01\",\"offset\":1,\"limit\":200}).json()"
   ]
  },
  {
   "cell_type": "code",
   "execution_count": 58,
   "id": "880cf67c",
   "metadata": {
    "ExecuteTime": {
     "end_time": "2021-12-15T15:48:28.892789Z",
     "start_time": "2021-12-15T15:48:28.889188Z"
    }
   },
   "outputs": [],
   "source": [
    "def get_data():\n",
    "    sess,url=get_session()\n",
    "    data=sess.get(\"http://localhost:5005/ratings\",params={\"start_date\":\"2000-01-01\",\"end_date\":\"2002-01-01\",\"offset\":1,\"limit\":200}).json()\n",
    "    yield from data[\"result\"]"
   ]
  },
  {
   "cell_type": "code",
   "execution_count": 60,
   "id": "e36c4037",
   "metadata": {
    "ExecuteTime": {
     "end_time": "2021-12-15T15:48:47.391336Z",
     "start_time": "2021-12-15T15:48:47.242982Z"
    }
   },
   "outputs": [
    {
     "name": "stdout",
     "output_type": "stream",
     "text": [
      "{'movie_id': 2692, 'ratings': 4, 'timestamp': 956704656, 'user_id': 6040}\n",
      "{'movie_id': 300, 'ratings': 2, 'timestamp': 956704716, 'user_id': 6040}\n",
      "{'movie_id': 1111, 'ratings': 5, 'timestamp': 956704716, 'user_id': 6040}\n",
      "{'movie_id': 448, 'ratings': 4, 'timestamp': 956704788, 'user_id': 6040}\n",
      "{'movie_id': 866, 'ratings': 4, 'timestamp': 956704788, 'user_id': 6040}\n",
      "{'movie_id': 2324, 'ratings': 3, 'timestamp': 956704829, 'user_id': 6040}\n",
      "{'movie_id': 446, 'ratings': 4, 'timestamp': 956704854, 'user_id': 6040}\n",
      "{'movie_id': 1641, 'ratings': 4, 'timestamp': 956705185, 'user_id': 6040}\n",
      "{'movie_id': 955, 'ratings': 4, 'timestamp': 956705351, 'user_id': 6039}\n",
      "{'movie_id': 951, 'ratings': 4, 'timestamp': 956705441, 'user_id': 6039}\n",
      "{'movie_id': 916, 'ratings': 5, 'timestamp': 956705703, 'user_id': 6039}\n",
      "{'movie_id': 2289, 'ratings': 4, 'timestamp': 956705703, 'user_id': 6039}\n",
      "{'movie_id': 260, 'ratings': 5, 'timestamp': 956705790, 'user_id': 6039}\n",
      "{'movie_id': 1282, 'ratings': 3, 'timestamp': 956705907, 'user_id': 6039}\n",
      "{'movie_id': 1951, 'ratings': 4, 'timestamp': 956705950, 'user_id': 6039}\n",
      "{'movie_id': 783, 'ratings': 2, 'timestamp': 956706051, 'user_id': 6039}\n",
      "{'movie_id': 1284, 'ratings': 5, 'timestamp': 956706148, 'user_id': 6039}\n",
      "{'movie_id': 906, 'ratings': 4, 'timestamp': 956706201, 'user_id': 6039}\n",
      "{'movie_id': 2019, 'ratings': 4, 'timestamp': 956706538, 'user_id': 6039}\n",
      "{'movie_id': 356, 'ratings': 4, 'timestamp': 956707005, 'user_id': 6038}\n",
      "{'movie_id': 1276, 'ratings': 3, 'timestamp': 956707604, 'user_id': 6038}\n",
      "{'movie_id': 3088, 'ratings': 5, 'timestamp': 956707640, 'user_id': 6038}\n",
      "{'movie_id': 3508, 'ratings': 3, 'timestamp': 956708997, 'user_id': 6037}\n",
      "{'movie_id': 3543, 'ratings': 3, 'timestamp': 956709149, 'user_id': 6037}\n",
      "{'movie_id': 923, 'ratings': 4, 'timestamp': 956709173, 'user_id': 6037}\n",
      "{'movie_id': 1250, 'ratings': 3, 'timestamp': 956709215, 'user_id': 6037}\n",
      "{'movie_id': 3196, 'ratings': 4, 'timestamp': 956709265, 'user_id': 6037}\n",
      "{'movie_id': 3438, 'ratings': 2, 'timestamp': 956709350, 'user_id': 6036}\n",
      "{'movie_id': 2728, 'ratings': 3, 'timestamp': 956709393, 'user_id': 6037}\n",
      "{'movie_id': 3330, 'ratings': 5, 'timestamp': 956709534, 'user_id': 6037}\n",
      "{'movie_id': 2759, 'ratings': 3, 'timestamp': 956709631, 'user_id': 6036}\n",
      "{'movie_id': 3203, 'ratings': 4, 'timestamp': 956709631, 'user_id': 6036}\n",
      "{'movie_id': 3354, 'ratings': 1, 'timestamp': 956709933, 'user_id': 6036}\n",
      "{'movie_id': 909, 'ratings': 4, 'timestamp': 956709950, 'user_id': 6037}\n",
      "{'movie_id': 2901, 'ratings': 3, 'timestamp': 956710006, 'user_id': 6036}\n",
      "{'movie_id': 2093, 'ratings': 3, 'timestamp': 956710117, 'user_id': 6036}\n",
      "{'movie_id': 3273, 'ratings': 2, 'timestamp': 956710191, 'user_id': 6036}\n",
      "{'movie_id': 1554, 'ratings': 5, 'timestamp': 956710370, 'user_id': 6036}\n",
      "{'movie_id': 3125, 'ratings': 4, 'timestamp': 956710370, 'user_id': 6036}\n",
      "{'movie_id': 2010, 'ratings': 5, 'timestamp': 956710399, 'user_id': 6036}\n",
      "{'movie_id': 318, 'ratings': 5, 'timestamp': 956710521, 'user_id': 6036}\n",
      "{'movie_id': 3149, 'ratings': 1, 'timestamp': 956710521, 'user_id': 6036}\n",
      "{'movie_id': 2360, 'ratings': 3, 'timestamp': 956710665, 'user_id': 6036}\n",
      "{'movie_id': 3128, 'ratings': 4, 'timestamp': 956710665, 'user_id': 6036}\n",
      "{'movie_id': 3196, 'ratings': 4, 'timestamp': 956710665, 'user_id': 6036}\n",
      "{'movie_id': 1247, 'ratings': 4, 'timestamp': 956710871, 'user_id': 6036}\n",
      "{'movie_id': 2859, 'ratings': 4, 'timestamp': 956710871, 'user_id': 6036}\n",
      "{'movie_id': 2677, 'ratings': 1, 'timestamp': 956710907, 'user_id': 6036}\n",
      "{'movie_id': 2728, 'ratings': 4, 'timestamp': 956710907, 'user_id': 6036}\n",
      "{'movie_id': 1412, 'ratings': 4, 'timestamp': 956710974, 'user_id': 6036}\n",
      "{'movie_id': 1584, 'ratings': 4, 'timestamp': 956711064, 'user_id': 6035}\n",
      "{'movie_id': 1909, 'ratings': 2, 'timestamp': 956711091, 'user_id': 6035}\n",
      "{'movie_id': 2916, 'ratings': 1, 'timestamp': 956711091, 'user_id': 6035}\n",
      "{'movie_id': 1396, 'ratings': 5, 'timestamp': 956711121, 'user_id': 6035}\n",
      "{'movie_id': 1952, 'ratings': 4, 'timestamp': 956711123, 'user_id': 6036}\n",
      "{'movie_id': 2012, 'ratings': 2, 'timestamp': 956711154, 'user_id': 6035}\n",
      "{'movie_id': 1217, 'ratings': 4, 'timestamp': 956711156, 'user_id': 6036}\n",
      "{'movie_id': 265, 'ratings': 1, 'timestamp': 956711193, 'user_id': 6036}\n",
      "{'movie_id': 1188, 'ratings': 3, 'timestamp': 956711193, 'user_id': 6036}\n",
      "{'movie_id': 1544, 'ratings': 1, 'timestamp': 956711201, 'user_id': 6035}\n",
      "{'movie_id': 1240, 'ratings': 5, 'timestamp': 956711231, 'user_id': 6036}\n",
      "{'movie_id': 1885, 'ratings': 3, 'timestamp': 956711231, 'user_id': 6036}\n",
      "{'movie_id': 1882, 'ratings': 1, 'timestamp': 956711290, 'user_id': 6035}\n",
      "{'movie_id': 2448, 'ratings': 1, 'timestamp': 956711290, 'user_id': 6035}\n",
      "{'movie_id': 1240, 'ratings': 3, 'timestamp': 956711361, 'user_id': 6035}\n",
      "{'movie_id': 1270, 'ratings': 5, 'timestamp': 956711361, 'user_id': 6035}\n",
      "{'movie_id': 446, 'ratings': 4, 'timestamp': 956711378, 'user_id': 6036}\n",
      "{'movie_id': 1375, 'ratings': 5, 'timestamp': 956711390, 'user_id': 6035}\n",
      "{'movie_id': 2311, 'ratings': 5, 'timestamp': 956711420, 'user_id': 6035}\n",
      "{'movie_id': 1253, 'ratings': 4, 'timestamp': 956711435, 'user_id': 6036}\n",
      "{'movie_id': 1278, 'ratings': 4, 'timestamp': 956711529, 'user_id': 6036}\n",
      "{'movie_id': 1397, 'ratings': 4, 'timestamp': 956711529, 'user_id': 6036}\n",
      "{'movie_id': 942, 'ratings': 5, 'timestamp': 956711642, 'user_id': 6036}\n",
      "{'movie_id': 1077, 'ratings': 4, 'timestamp': 956711642, 'user_id': 6036}\n",
      "{'movie_id': 1185, 'ratings': 4, 'timestamp': 956711684, 'user_id': 6036}\n",
      "{'movie_id': 1874, 'ratings': 3, 'timestamp': 956711733, 'user_id': 6036}\n",
      "{'movie_id': 2971, 'ratings': 3, 'timestamp': 956711733, 'user_id': 6036}\n",
      "{'movie_id': 778, 'ratings': 2, 'timestamp': 956711804, 'user_id': 6035}\n",
      "{'movie_id': 1784, 'ratings': 4, 'timestamp': 956711835, 'user_id': 6035}\n",
      "{'movie_id': 337, 'ratings': 5, 'timestamp': 956711971, 'user_id': 6035}\n",
      "{'movie_id': 358, 'ratings': 5, 'timestamp': 956711982, 'user_id': 6035}\n",
      "{'movie_id': 3386, 'ratings': 3, 'timestamp': 956712051, 'user_id': 6035}\n",
      "{'movie_id': 282, 'ratings': 4, 'timestamp': 956712214, 'user_id': 6035}\n",
      "{'movie_id': 509, 'ratings': 5, 'timestamp': 956712232, 'user_id': 6035}\n",
      "{'movie_id': 3155, 'ratings': 2, 'timestamp': 956712232, 'user_id': 6035}\n",
      "{'movie_id': 1252, 'ratings': 4, 'timestamp': 956712258, 'user_id': 6034}\n",
      "{'movie_id': 2361, 'ratings': 4, 'timestamp': 956712278, 'user_id': 6036}\n",
      "{'movie_id': 2002, 'ratings': 3, 'timestamp': 956712374, 'user_id': 6035}\n",
      "{'movie_id': 766, 'ratings': 4, 'timestamp': 956712548, 'user_id': 6035}\n",
      "{'movie_id': 418, 'ratings': 4, 'timestamp': 956712613, 'user_id': 6035}\n",
      "{'movie_id': 3150, 'ratings': 5, 'timestamp': 956712677, 'user_id': 6036}\n",
      "{'movie_id': 3499, 'ratings': 4, 'timestamp': 956712810, 'user_id': 6036}\n",
      "{'movie_id': 1265, 'ratings': 4, 'timestamp': 956712882, 'user_id': 6035}\n",
      "{'movie_id': 2355, 'ratings': 5, 'timestamp': 956712937, 'user_id': 6035}\n",
      "{'movie_id': 1923, 'ratings': 1, 'timestamp': 956712964, 'user_id': 6035}\n",
      "{'movie_id': 500, 'ratings': 1, 'timestamp': 956713011, 'user_id': 6035}\n",
      "{'movie_id': 471, 'ratings': 5, 'timestamp': 956713042, 'user_id': 6035}\n",
      "{'movie_id': 3548, 'ratings': 2, 'timestamp': 956713310, 'user_id': 6036}\n",
      "{'movie_id': 2266, 'ratings': 5, 'timestamp': 956713357, 'user_id': 6035}\n",
      "{'movie_id': 2036, 'ratings': 1, 'timestamp': 956713502, 'user_id': 6035}\n",
      "{'movie_id': 1005, 'ratings': 1, 'timestamp': 956713564, 'user_id': 6035}\n",
      "{'movie_id': 2720, 'ratings': 1, 'timestamp': 956713564, 'user_id': 6035}\n",
      "{'movie_id': 1707, 'ratings': 1, 'timestamp': 956713592, 'user_id': 6035}\n",
      "{'movie_id': 2152, 'ratings': 3, 'timestamp': 956713620, 'user_id': 6035}\n",
      "{'movie_id': 2526, 'ratings': 3, 'timestamp': 956713676, 'user_id': 6033}\n",
      "{'movie_id': 3104, 'ratings': 4, 'timestamp': 956713864, 'user_id': 6036}\n",
      "{'movie_id': 2353, 'ratings': 5, 'timestamp': 956714059, 'user_id': 6033}\n",
      "{'movie_id': 2871, 'ratings': 4, 'timestamp': 956714355, 'user_id': 6036}\n",
      "{'movie_id': 1199, 'ratings': 5, 'timestamp': 956715455, 'user_id': 6040}\n",
      "{'movie_id': 1962, 'ratings': 3, 'timestamp': 956715569, 'user_id': 6040}\n",
      "{'movie_id': 1975, 'ratings': 1, 'timestamp': 956715569, 'user_id': 6040}\n",
      "{'movie_id': 3521, 'ratings': 5, 'timestamp': 956715569, 'user_id': 6040}\n",
      "{'movie_id': 2872, 'ratings': 4, 'timestamp': 956715805, 'user_id': 6040}\n",
      "{'movie_id': 2915, 'ratings': 4, 'timestamp': 956715942, 'user_id': 6040}\n",
      "{'movie_id': 3552, 'ratings': 2, 'timestamp': 956715942, 'user_id': 6040}\n",
      "{'movie_id': 592, 'ratings': 2, 'timestamp': 956716016, 'user_id': 6040}\n",
      "{'movie_id': 2286, 'ratings': 1, 'timestamp': 956716183, 'user_id': 6040}\n",
      "{'movie_id': 2944, 'ratings': 4, 'timestamp': 956716516, 'user_id': 6036}\n",
      "{'movie_id': 3017, 'ratings': 1, 'timestamp': 956716519, 'user_id': 6040}\n",
      "{'movie_id': 1078, 'ratings': 4, 'timestamp': 956716559, 'user_id': 6036}\n",
      "{'movie_id': 999, 'ratings': 3, 'timestamp': 956716596, 'user_id': 6036}\n",
      "{'movie_id': 529, 'ratings': 3, 'timestamp': 956716655, 'user_id': 6036}\n",
      "{'movie_id': 2467, 'ratings': 4, 'timestamp': 956716780, 'user_id': 6036}\n",
      "{'movie_id': 913, 'ratings': 5, 'timestamp': 956716845, 'user_id': 6040}\n",
      "{'movie_id': 1210, 'ratings': 3, 'timestamp': 956716860, 'user_id': 6036}\n",
      "{'movie_id': 260, 'ratings': 4, 'timestamp': 956716873, 'user_id': 6040}\n",
      "{'movie_id': 1084, 'ratings': 2, 'timestamp': 956716928, 'user_id': 6032}\n",
      "{'movie_id': 2014, 'ratings': 2, 'timestamp': 956716969, 'user_id': 6032}\n",
      "{'movie_id': 3308, 'ratings': 2, 'timestamp': 956717047, 'user_id': 6036}\n",
      "{'movie_id': 2570, 'ratings': 3, 'timestamp': 956717085, 'user_id': 6036}\n",
      "{'movie_id': 3246, 'ratings': 4, 'timestamp': 956717085, 'user_id': 6036}\n",
      "{'movie_id': 2001, 'ratings': 5, 'timestamp': 956717104, 'user_id': 6031}\n",
      "{'movie_id': 1183, 'ratings': 5, 'timestamp': 956717204, 'user_id': 6038}\n",
      "{'movie_id': 534, 'ratings': 3, 'timestamp': 956717309, 'user_id': 6036}\n",
      "{'movie_id': 3044, 'ratings': 4, 'timestamp': 956717396, 'user_id': 6036}\n",
      "{'movie_id': 2071, 'ratings': 3, 'timestamp': 956717447, 'user_id': 6036}\n",
      "{'movie_id': 1968, 'ratings': 4, 'timestamp': 956717486, 'user_id': 6036}\n",
      "{'movie_id': 6, 'ratings': 3, 'timestamp': 956717530, 'user_id': 6036}\n",
      "{'movie_id': 3037, 'ratings': 4, 'timestamp': 956717603, 'user_id': 6032}\n",
      "{'movie_id': 454, 'ratings': 2, 'timestamp': 956717719, 'user_id': 6036}\n",
      "{'movie_id': 2167, 'ratings': 2, 'timestamp': 956717719, 'user_id': 6036}\n",
      "{'movie_id': 3248, 'ratings': 5, 'timestamp': 956717833, 'user_id': 6031}\n",
      "{'movie_id': 2716, 'ratings': 4, 'timestamp': 956718000, 'user_id': 6031}\n",
      "{'movie_id': 3072, 'ratings': 5, 'timestamp': 956718030, 'user_id': 6032}\n",
      "{'movie_id': 1238, 'ratings': 5, 'timestamp': 956718092, 'user_id': 6032}\n",
      "{'movie_id': 1304, 'ratings': 4, 'timestamp': 956718092, 'user_id': 6032}\n",
      "{'movie_id': 1297, 'ratings': 5, 'timestamp': 956718093, 'user_id': 6031}\n",
      "{'movie_id': 361, 'ratings': 4, 'timestamp': 956718288, 'user_id': 6031}\n",
      "{'movie_id': 1288, 'ratings': 5, 'timestamp': 956718317, 'user_id': 6032}\n",
      "{'movie_id': 541, 'ratings': 5, 'timestamp': 956718342, 'user_id': 6030}\n",
      "{'movie_id': 924, 'ratings': 5, 'timestamp': 956718405, 'user_id': 6030}\n",
      "{'movie_id': 1648, 'ratings': 2, 'timestamp': 956718466, 'user_id': 6031}\n",
      "{'movie_id': 2916, 'ratings': 4, 'timestamp': 956718472, 'user_id': 6030}\n",
      "{'movie_id': 780, 'ratings': 4, 'timestamp': 956718610, 'user_id': 6030}\n",
      "{'movie_id': 2105, 'ratings': 5, 'timestamp': 956718610, 'user_id': 6030}\n",
      "{'movie_id': 903, 'ratings': 5, 'timestamp': 956718658, 'user_id': 6037}\n",
      "{'movie_id': 933, 'ratings': 4, 'timestamp': 956718700, 'user_id': 6037}\n",
      "{'movie_id': 1373, 'ratings': 2, 'timestamp': 956718992, 'user_id': 6030}\n",
      "{'movie_id': 2986, 'ratings': 3, 'timestamp': 956718992, 'user_id': 6030}\n",
      "{'movie_id': 1350, 'ratings': 2, 'timestamp': 956719025, 'user_id': 6032}\n",
      "{'movie_id': 3114, 'ratings': 4, 'timestamp': 956719174, 'user_id': 6037}\n",
      "{'movie_id': 2087, 'ratings': 3, 'timestamp': 956719183, 'user_id': 6030}\n",
      "{'movie_id': 2138, 'ratings': 4, 'timestamp': 956719183, 'user_id': 6030}\n",
      "{'movie_id': 2, 'ratings': 4, 'timestamp': 956719238, 'user_id': 6030}\n",
      "{'movie_id': 2361, 'ratings': 2, 'timestamp': 956719301, 'user_id': 6037}\n",
      "{'movie_id': 1126, 'ratings': 4, 'timestamp': 956719323, 'user_id': 6030}\n",
      "{'movie_id': 3439, 'ratings': 3, 'timestamp': 956719342, 'user_id': 6030}\n",
      "{'movie_id': 3448, 'ratings': 3, 'timestamp': 956721639, 'user_id': 6029}\n",
      "{'movie_id': 3550, 'ratings': 5, 'timestamp': 956721780, 'user_id': 6029}\n",
      "{'movie_id': 3006, 'ratings': 5, 'timestamp': 956722035, 'user_id': 6029}\n",
      "{'movie_id': 2829, 'ratings': 3, 'timestamp': 956722153, 'user_id': 6029}\n",
      "{'movie_id': 3125, 'ratings': 4, 'timestamp': 956722988, 'user_id': 6028}\n",
      "{'movie_id': 465, 'ratings': 2, 'timestamp': 956723503, 'user_id': 6028}\n",
      "{'movie_id': 1127, 'ratings': 4, 'timestamp': 956723693, 'user_id': 6028}\n",
      "{'movie_id': 1246, 'ratings': 4, 'timestamp': 956725396, 'user_id': 6026}\n",
      "{'movie_id': 1210, 'ratings': 3, 'timestamp': 956725425, 'user_id': 6027}\n",
      "{'movie_id': 260, 'ratings': 5, 'timestamp': 956725858, 'user_id': 6026}\n",
      "{'movie_id': 924, 'ratings': 5, 'timestamp': 956725858, 'user_id': 6026}\n",
      "{'movie_id': 1196, 'ratings': 5, 'timestamp': 956725904, 'user_id': 6026}\n",
      "{'movie_id': 1199, 'ratings': 5, 'timestamp': 956725941, 'user_id': 6026}\n",
      "{'movie_id': 1253, 'ratings': 3, 'timestamp': 956725941, 'user_id': 6026}\n",
      "{'movie_id': 480, 'ratings': 2, 'timestamp': 956725986, 'user_id': 6026}\n",
      "{'movie_id': 968, 'ratings': 3, 'timestamp': 956725986, 'user_id': 6026}\n",
      "{'movie_id': 1580, 'ratings': 3, 'timestamp': 956726100, 'user_id': 6026}\n",
      "{'movie_id': 2527, 'ratings': 3, 'timestamp': 956726100, 'user_id': 6026}\n",
      "{'movie_id': 3033, 'ratings': 3, 'timestamp': 956726304, 'user_id': 6026}\n",
      "{'movie_id': 2692, 'ratings': 3, 'timestamp': 956726389, 'user_id': 6027}\n",
      "{'movie_id': 2028, 'ratings': 5, 'timestamp': 956726454, 'user_id': 6027}\n",
      "{'movie_id': 3418, 'ratings': 4, 'timestamp': 956726454, 'user_id': 6027}\n",
      "{'movie_id': 1610, 'ratings': 5, 'timestamp': 956726594, 'user_id': 6027}\n",
      "{'movie_id': 1917, 'ratings': 5, 'timestamp': 956726594, 'user_id': 6027}\n",
      "{'movie_id': 318, 'ratings': 4, 'timestamp': 956726688, 'user_id': 6026}\n",
      "{'movie_id': 378, 'ratings': 3, 'timestamp': 956726749, 'user_id': 6027}\n",
      "{'movie_id': 3255, 'ratings': 4, 'timestamp': 956726814, 'user_id': 6027}\n",
      "{'movie_id': 1188, 'ratings': 5, 'timestamp': 956726837, 'user_id': 6027}\n",
      "{'movie_id': 1517, 'ratings': 5, 'timestamp': 956726845, 'user_id': 6027}\n",
      "{'movie_id': 2724, 'ratings': 4, 'timestamp': 956729996, 'user_id': 6025}\n",
      "{'movie_id': 2003, 'ratings': 4, 'timestamp': 956730204, 'user_id': 6025}\n",
      "{'movie_id': 1974, 'ratings': 3, 'timestamp': 956730327, 'user_id': 6025}\n",
      "{'movie_id': 1972, 'ratings': 1, 'timestamp': 956730454, 'user_id': 6025}\n"
     ]
    }
   ],
   "source": [
    "for i in get_data():\n",
    "    print(i)"
   ]
  },
  {
   "cell_type": "code",
   "execution_count": null,
   "id": "836baaa9",
   "metadata": {},
   "outputs": [],
   "source": []
  }
 ],
 "metadata": {
  "kernelspec": {
   "display_name": "Python 3 (ipykernel)",
   "language": "python",
   "name": "python3"
  },
  "language_info": {
   "codemirror_mode": {
    "name": "ipython",
    "version": 3
   },
   "file_extension": ".py",
   "mimetype": "text/x-python",
   "name": "python",
   "nbconvert_exporter": "python",
   "pygments_lexer": "ipython3",
   "version": "3.8.2"
  },
  "toc": {
   "base_numbering": 1,
   "nav_menu": {},
   "number_sections": true,
   "sideBar": true,
   "skip_h1_title": false,
   "title_cell": "Table of Contents",
   "title_sidebar": "Contents",
   "toc_cell": false,
   "toc_position": {},
   "toc_section_display": true,
   "toc_window_display": false
  },
  "varInspector": {
   "cols": {
    "lenName": 16,
    "lenType": 16,
    "lenVar": 40
   },
   "kernels_config": {
    "python": {
     "delete_cmd_postfix": "",
     "delete_cmd_prefix": "del ",
     "library": "var_list.py",
     "varRefreshCmd": "print(var_dic_list())"
    },
    "r": {
     "delete_cmd_postfix": ") ",
     "delete_cmd_prefix": "rm(",
     "library": "var_list.r",
     "varRefreshCmd": "cat(var_dic_list()) "
    }
   },
   "types_to_exclude": [
    "module",
    "function",
    "builtin_function_or_method",
    "instance",
    "_Feature"
   ],
   "window_display": false
  }
 },
 "nbformat": 4,
 "nbformat_minor": 5
}
